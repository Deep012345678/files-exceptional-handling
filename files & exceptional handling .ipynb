{
 "cells": [
  {
   "cell_type": "code",
   "execution_count": 1,
   "id": "d9e00988-3a53-47af-bea8-c3308234ee7a",
   "metadata": {},
   "outputs": [
    {
     "name": "stdout",
     "output_type": "stream",
     "text": [
      "String written to 'output.txt' successfully.\n"
     ]
    }
   ],
   "source": [
    "# 1. How can you open a file for writing in Python and write a string to it?\n",
    "with open(\"output.txt\", \"w\") as file:\n",
    "    file.write(\"This is a sample string written to the file.\")\n",
    "print(\"String written to 'output.txt' successfully.\")\n"
   ]
  },
  {
   "cell_type": "code",
   "execution_count": 2,
   "id": "ec000b93-c1c1-4b90-97c8-dd15c61d1026",
   "metadata": {},
   "outputs": [
    {
     "name": "stdout",
     "output_type": "stream",
     "text": [
      "This is a sample string written to the file.\n"
     ]
    }
   ],
   "source": [
    "# 2. Write a Python program to read the contents of a file and print each line.\n",
    "with open(\"output.txt\", \"r\") as file:\n",
    "    for line in file:\n",
    "        print(line.strip())\n"
   ]
  },
  {
   "cell_type": "code",
   "execution_count": 3,
   "id": "672222a8-1da5-43d4-a20a-f7b7c290e050",
   "metadata": {},
   "outputs": [
    {
     "name": "stdout",
     "output_type": "stream",
     "text": [
      "Error: File not found.\n"
     ]
    }
   ],
   "source": [
    "# 3. How would you handle a case where the file doesn't exist while trying to open it for reading?\n",
    "try:\n",
    "    with open(\"nonexistent_file.txt\", \"r\") as file:\n",
    "        print(file.read())\n",
    "except FileNotFoundError:\n",
    "    print(\"Error: File not found.\")\n"
   ]
  },
  {
   "cell_type": "code",
   "execution_count": 4,
   "id": "625d5d57-e346-4989-b18e-1b26de7e7cac",
   "metadata": {},
   "outputs": [
    {
     "ename": "FileNotFoundError",
     "evalue": "[Errno 2] No such file or directory: 'input.txt'",
     "output_type": "error",
     "traceback": [
      "\u001b[1;31m---------------------------------------------------------------------------\u001b[0m",
      "\u001b[1;31mFileNotFoundError\u001b[0m                         Traceback (most recent call last)",
      "Cell \u001b[1;32mIn[4], line 2\u001b[0m\n\u001b[0;32m      1\u001b[0m \u001b[38;5;66;03m# 4. Write a Python script that reads from one file and writes its content to another file.\u001b[39;00m\n\u001b[1;32m----> 2\u001b[0m \u001b[38;5;28;01mwith\u001b[39;00m \u001b[38;5;28mopen\u001b[39m(\u001b[38;5;124m\"\u001b[39m\u001b[38;5;124minput.txt\u001b[39m\u001b[38;5;124m\"\u001b[39m, \u001b[38;5;124m\"\u001b[39m\u001b[38;5;124mr\u001b[39m\u001b[38;5;124m\"\u001b[39m) \u001b[38;5;28;01mas\u001b[39;00m source:\n\u001b[0;32m      3\u001b[0m     content \u001b[38;5;241m=\u001b[39m source\u001b[38;5;241m.\u001b[39mread()\n\u001b[0;32m      4\u001b[0m \u001b[38;5;28;01mwith\u001b[39;00m \u001b[38;5;28mopen\u001b[39m(\u001b[38;5;124m\"\u001b[39m\u001b[38;5;124moutput_copy.txt\u001b[39m\u001b[38;5;124m\"\u001b[39m, \u001b[38;5;124m\"\u001b[39m\u001b[38;5;124mw\u001b[39m\u001b[38;5;124m\"\u001b[39m) \u001b[38;5;28;01mas\u001b[39;00m destination:\n",
      "File \u001b[1;32m~\\anaconda3\\Lib\\site-packages\\IPython\\core\\interactiveshell.py:324\u001b[0m, in \u001b[0;36m_modified_open\u001b[1;34m(file, *args, **kwargs)\u001b[0m\n\u001b[0;32m    317\u001b[0m \u001b[38;5;28;01mif\u001b[39;00m file \u001b[38;5;129;01min\u001b[39;00m {\u001b[38;5;241m0\u001b[39m, \u001b[38;5;241m1\u001b[39m, \u001b[38;5;241m2\u001b[39m}:\n\u001b[0;32m    318\u001b[0m     \u001b[38;5;28;01mraise\u001b[39;00m \u001b[38;5;167;01mValueError\u001b[39;00m(\n\u001b[0;32m    319\u001b[0m         \u001b[38;5;124mf\u001b[39m\u001b[38;5;124m\"\u001b[39m\u001b[38;5;124mIPython won\u001b[39m\u001b[38;5;124m'\u001b[39m\u001b[38;5;124mt let you open fd=\u001b[39m\u001b[38;5;132;01m{\u001b[39;00mfile\u001b[38;5;132;01m}\u001b[39;00m\u001b[38;5;124m by default \u001b[39m\u001b[38;5;124m\"\u001b[39m\n\u001b[0;32m    320\u001b[0m         \u001b[38;5;124m\"\u001b[39m\u001b[38;5;124mas it is likely to crash IPython. If you know what you are doing, \u001b[39m\u001b[38;5;124m\"\u001b[39m\n\u001b[0;32m    321\u001b[0m         \u001b[38;5;124m\"\u001b[39m\u001b[38;5;124myou can use builtins\u001b[39m\u001b[38;5;124m'\u001b[39m\u001b[38;5;124m open.\u001b[39m\u001b[38;5;124m\"\u001b[39m\n\u001b[0;32m    322\u001b[0m     )\n\u001b[1;32m--> 324\u001b[0m \u001b[38;5;28;01mreturn\u001b[39;00m io_open(file, \u001b[38;5;241m*\u001b[39margs, \u001b[38;5;241m*\u001b[39m\u001b[38;5;241m*\u001b[39mkwargs)\n",
      "\u001b[1;31mFileNotFoundError\u001b[0m: [Errno 2] No such file or directory: 'input.txt'"
     ]
    }
   ],
   "source": [
    "# 4. Write a Python script that reads from one file and writes its content to another file.\n",
    "with open(\"input.txt\", \"r\") as source:\n",
    "    content = source.read()\n",
    "with open(\"output_copy.txt\", \"w\") as destination:\n",
    "    destination.write(content)\n",
    "print(\"Content copied successfully.\")\n"
   ]
  },
  {
   "cell_type": "code",
   "execution_count": 5,
   "id": "0dec059b-27d9-4024-b4a3-5f6bae5f5d60",
   "metadata": {},
   "outputs": [
    {
     "name": "stdout",
     "output_type": "stream",
     "text": [
      "Error: Division by zero is not allowed.\n"
     ]
    }
   ],
   "source": [
    "# 5. How would you catch and handle division by zero error in Python?\n",
    "try:\n",
    "    result = 10 / 0\n",
    "except ZeroDivisionError:\n",
    "    print(\"Error: Division by zero is not allowed.\")\n"
   ]
  },
  {
   "cell_type": "code",
   "execution_count": 6,
   "id": "2fe8f464-dccb-4e5b-a09a-192a0eecfd91",
   "metadata": {},
   "outputs": [
    {
     "name": "stdout",
     "output_type": "stream",
     "text": [
      "Error logged to 'error.log'.\n"
     ]
    }
   ],
   "source": [
    "# 6. Write a Python program that logs an error message to a log file when a division by zero exception occurs.\n",
    "import logging\n",
    "logging.basicConfig(filename=\"error.log\", level=logging.ERROR)\n",
    "\n",
    "try:\n",
    "    result = 10 / 0\n",
    "except ZeroDivisionError:\n",
    "    logging.error(\"Division by zero error occurred.\", exc_info=True)\n",
    "    print(\"Error logged to 'error.log'.\")\n"
   ]
  },
  {
   "cell_type": "code",
   "execution_count": 8,
   "id": "9bd88463-63ec-4f36-a2af-4774c24084c6",
   "metadata": {},
   "outputs": [],
   "source": [
    "# 7. How do you log information at different levels (INFO, ERROR, WARNING) in Python using the logging module?\n",
    "import logging\n",
    "logging.basicConfig(level=logging.DEBUG)\n",
    "\n",
    "logging.info(\"This is an informational message.\")\n",
    "logging.warning(\"This is a warning message.\")\n",
    "logging.error(\"This is an error message.\")\n"
   ]
  },
  {
   "cell_type": "code",
   "execution_count": 9,
   "id": "d839fc3e-7856-4e15-b9af-2676936b63bb",
   "metadata": {},
   "outputs": [
    {
     "name": "stdout",
     "output_type": "stream",
     "text": [
      "Error: The file does not exist.\n"
     ]
    }
   ],
   "source": [
    "# 8. Write a program to handle a file opening error using exception handling.\n",
    "try:\n",
    "    with open(\"nonexistent_file.txt\", \"r\") as file:\n",
    "        print(file.read())\n",
    "except FileNotFoundError:\n",
    "    print(\"Error: The file does not exist.\")\n"
   ]
  },
  {
   "cell_type": "code",
   "execution_count": 10,
   "id": "5255c7be-c2f9-449d-9f44-65b88f7fddeb",
   "metadata": {},
   "outputs": [
    {
     "name": "stdout",
     "output_type": "stream",
     "text": [
      "Lines in the file: ['This is a sample string written to the file.']\n"
     ]
    }
   ],
   "source": [
    "# 9. How can you read a file line by line and store its content in a list in Python?\n",
    "with open(\"output.txt\", \"r\") as file:\n",
    "    lines = [line.strip() for line in file]\n",
    "print(\"Lines in the file:\", lines)\n"
   ]
  },
  {
   "cell_type": "code",
   "execution_count": 11,
   "id": "3ceabbdc-1962-466c-b51f-9aa823ec8807",
   "metadata": {},
   "outputs": [
    {
     "name": "stdout",
     "output_type": "stream",
     "text": [
      "Data appended successfully.\n"
     ]
    }
   ],
   "source": [
    "# 10. How can you append data to an existing file in Python?\n",
    "with open(\"output.txt\", \"a\") as file:\n",
    "    file.write(\"\\nThis line is appended to the file.\")\n",
    "print(\"Data appended successfully.\")\n"
   ]
  },
  {
   "cell_type": "code",
   "execution_count": 12,
   "id": "6142c7ea-7a9e-46bf-98a0-8cec77eb62c1",
   "metadata": {},
   "outputs": [
    {
     "name": "stdout",
     "output_type": "stream",
     "text": [
      "Error: The key 'address' does not exist in the dictionary.\n"
     ]
    }
   ],
   "source": [
    "# 11. Write a Python program that uses a try-except block to handle an error when attempting to access a dictionary key that doesn't exist.\n",
    "my_dict = {\"name\": \"Deepak\", \"age\": 22}\n",
    "\n",
    "try:\n",
    "    print(my_dict[\"address\"])\n",
    "except KeyError:\n",
    "    print(\"Error: The key 'address' does not exist in the dictionary.\")\n"
   ]
  },
  {
   "cell_type": "code",
   "execution_count": 13,
   "id": "e8e9555b-4dbd-4102-8db3-2d14876d7b3c",
   "metadata": {},
   "outputs": [
    {
     "name": "stdout",
     "output_type": "stream",
     "text": [
      "Error: Invalid input. Cannot convert to an integer.\n"
     ]
    }
   ],
   "source": [
    "# 12. Write a program that demonstrates using multiple except blocks to handle different types of exceptions.\n",
    "try:\n",
    "    num = int(\"abc\")  # ValueError\n",
    "    result = 10 / 0  # ZeroDivisionError\n",
    "except ValueError:\n",
    "    print(\"Error: Invalid input. Cannot convert to an integer.\")\n",
    "except ZeroDivisionError:\n",
    "    print(\"Error: Division by zero is not allowed.\")\n"
   ]
  },
  {
   "cell_type": "code",
   "execution_count": 14,
   "id": "e2dd274a-5a06-4981-a158-d85f23457675",
   "metadata": {},
   "outputs": [
    {
     "name": "stdout",
     "output_type": "stream",
     "text": [
      "This is a sample string written to the file.\n",
      "This line is appended to the file.\n"
     ]
    }
   ],
   "source": [
    "# 13. How would you check if a file exists before attempting to read it in Python?\n",
    "import os\n",
    "\n",
    "if os.path.exists(\"output.txt\"):\n",
    "    with open(\"output.txt\", \"r\") as file:\n",
    "        print(file.read())\n",
    "else:\n",
    "    print(\"Error: File does not exist.\")\n"
   ]
  },
  {
   "cell_type": "code",
   "execution_count": 15,
   "id": "3c368ef5-0813-45d0-9476-dcd4773a4d26",
   "metadata": {},
   "outputs": [
    {
     "name": "stdout",
     "output_type": "stream",
     "text": [
      "Error logged to 'app.log'.\n"
     ]
    }
   ],
   "source": [
    "# 14. Write a program that uses the logging module to log both informational and error messages.\n",
    "import logging\n",
    "\n",
    "logging.basicConfig(filename=\"app.log\", level=logging.DEBUG)\n",
    "logging.info(\"Application started successfully.\")\n",
    "try:\n",
    "    result = 10 / 0\n",
    "except ZeroDivisionError:\n",
    "    logging.error(\"Division by zero error occurred.\", exc_info=True)\n",
    "    print(\"Error logged to 'app.log'.\")\n"
   ]
  },
  {
   "cell_type": "code",
   "execution_count": 16,
   "id": "dc173580-5bdb-40e7-a56f-e17c14ba5b75",
   "metadata": {},
   "outputs": [
    {
     "name": "stdout",
     "output_type": "stream",
     "text": [
      "This is a sample string written to the file.\n",
      "This line is appended to the file.\n"
     ]
    }
   ],
   "source": [
    "# 15. Write a Python program that prints the content of a file and handles the case when the file is empty.\n",
    "with open(\"output.txt\", \"r\") as file:\n",
    "    content = file.read()\n",
    "    if content.strip():\n",
    "        print(content)\n",
    "    else:\n",
    "        print(\"The file is empty.\")\n"
   ]
  },
  {
   "cell_type": "code",
   "execution_count": 17,
   "id": "07e2f883-4c28-44ce-9909-2c4b1496c3a8",
   "metadata": {},
   "outputs": [
    {
     "ename": "ModuleNotFoundError",
     "evalue": "No module named 'memory_profiler'",
     "output_type": "error",
     "traceback": [
      "\u001b[1;31m---------------------------------------------------------------------------\u001b[0m",
      "\u001b[1;31mModuleNotFoundError\u001b[0m                       Traceback (most recent call last)",
      "Cell \u001b[1;32mIn[17], line 2\u001b[0m\n\u001b[0;32m      1\u001b[0m \u001b[38;5;66;03m# 16. Demonstrate how to use memory profiling to check the memory usage of a small program.\u001b[39;00m\n\u001b[1;32m----> 2\u001b[0m \u001b[38;5;28;01mfrom\u001b[39;00m \u001b[38;5;21;01mmemory_profiler\u001b[39;00m \u001b[38;5;28;01mimport\u001b[39;00m profile\n\u001b[0;32m      4\u001b[0m \u001b[38;5;129m@profile\u001b[39m\n\u001b[0;32m      5\u001b[0m \u001b[38;5;28;01mdef\u001b[39;00m \u001b[38;5;21mcompute\u001b[39m():\n\u001b[0;32m      6\u001b[0m     numbers \u001b[38;5;241m=\u001b[39m [i\u001b[38;5;241m*\u001b[39m\u001b[38;5;241m*\u001b[39m\u001b[38;5;241m2\u001b[39m \u001b[38;5;28;01mfor\u001b[39;00m i \u001b[38;5;129;01min\u001b[39;00m \u001b[38;5;28mrange\u001b[39m(\u001b[38;5;241m10000\u001b[39m)]  \u001b[38;5;66;03m# Create a list of squares\u001b[39;00m\n",
      "\u001b[1;31mModuleNotFoundError\u001b[0m: No module named 'memory_profiler'"
     ]
    }
   ],
   "source": [
    "# 16. Demonstrate how to use memory profiling to check the memory usage of a small program.\n",
    "from memory_profiler import profile\n",
    "\n",
    "@profile\n",
    "def compute():\n",
    "    numbers = [i**2 for i in range(10000)]  # Create a list of squares\n",
    "    return sum(numbers)\n",
    "\n",
    "if __name__ == \"__main__\":\n",
    "    compute()\n"
   ]
  },
  {
   "cell_type": "code",
   "execution_count": 18,
   "id": "eecb6a86-716c-4981-99f0-52cd080c598d",
   "metadata": {},
   "outputs": [
    {
     "name": "stdout",
     "output_type": "stream",
     "text": [
      "Numbers written to 'numbers.txt'.\n"
     ]
    }
   ],
   "source": [
    "# 17. Write a Python program to create and write a list of numbers to a file, one number per line.\n",
    "numbers = [1, 2, 3, 4, 5]\n",
    "\n",
    "with open(\"numbers.txt\", \"w\") as file:\n",
    "    for number in numbers:\n",
    "        file.write(f\"{number}\\n\")\n",
    "\n",
    "print(\"Numbers written to 'numbers.txt'.\")\n"
   ]
  },
  {
   "cell_type": "code",
   "execution_count": 19,
   "id": "f1e426b7-cdf4-49bc-8b1c-e91d65967a6e",
   "metadata": {},
   "outputs": [
    {
     "name": "stdout",
     "output_type": "stream",
     "text": [
      "Logging with rotation set up.\n"
     ]
    }
   ],
   "source": [
    "# 18. How would you implement a basic logging setup that logs to a file with rotation after 1 MB?\n",
    "import logging\n",
    "from logging.handlers import RotatingFileHandler\n",
    "\n",
    "logger = logging.getLogger(\"MyLogger\")\n",
    "logger.setLevel(logging.DEBUG)\n",
    "\n",
    "handler = RotatingFileHandler(\"rotating_log.log\", maxBytes=1_000_000, backupCount=3)\n",
    "formatter = logging.Formatter('%(asctime)s - %(levelname)s - %(message)s')\n",
    "handler.setFormatter(formatter)\n",
    "\n",
    "logger.addHandler(handler)\n",
    "\n",
    "logger.info(\"This is an informational log.\")\n",
    "logger.error(\"This is an error log.\")\n",
    "print(\"Logging with rotation set up.\")\n"
   ]
  },
  {
   "cell_type": "code",
   "execution_count": 20,
   "id": "44e19317-3295-4503-8aef-48f3260c6863",
   "metadata": {},
   "outputs": [
    {
     "name": "stdout",
     "output_type": "stream",
     "text": [
      "Error: List index out of range.\n"
     ]
    }
   ],
   "source": [
    "# 19. Write a program that handles both IndexError and KeyError using a try-except block.\n",
    "my_list = [10, 20, 30]\n",
    "my_dict = {\"name\": \"Deepak\", \"age\": 22}\n",
    "\n",
    "try:\n",
    "    print(my_list[5])  # IndexError\n",
    "    print(my_dict[\"address\"])  # KeyError\n",
    "except IndexError:\n",
    "    print(\"Error: List index out of range.\")\n",
    "except KeyError:\n",
    "    print(\"Error: Dictionary key does not exist.\")\n"
   ]
  },
  {
   "cell_type": "code",
   "execution_count": 21,
   "id": "9af2aac7-fe3c-413c-bf00-8115ce94da7d",
   "metadata": {},
   "outputs": [
    {
     "name": "stdout",
     "output_type": "stream",
     "text": [
      "File Content:\n",
      " This is a sample string written to the file.\n",
      "This line is appended to the file.\n"
     ]
    }
   ],
   "source": [
    "# 20. How would you open a file and read its contents using a context manager in Python?\n",
    "with open(\"output.txt\", \"r\") as file:\n",
    "    content = file.read()\n",
    "    print(\"File Content:\\n\", content)\n"
   ]
  },
  {
   "cell_type": "code",
   "execution_count": 22,
   "id": "c3f1effe-e56b-46c4-9fa2-85e8e9a55c64",
   "metadata": {},
   "outputs": [
    {
     "name": "stdout",
     "output_type": "stream",
     "text": [
      "The word 'Python' appears 0 times in the file.\n"
     ]
    }
   ],
   "source": [
    "# 21. Write a Python program that reads a file and prints the number of occurrences of a specific word.\n",
    "word_to_find = \"Python\"\n",
    "\n",
    "with open(\"output.txt\", \"r\") as file:\n",
    "    content = file.read()\n",
    "    word_count = content.lower().split().count(word_to_find.lower())\n",
    "\n",
    "print(f\"The word '{word_to_find}' appears {word_count} times in the file.\")\n"
   ]
  },
  {
   "cell_type": "code",
   "execution_count": 23,
   "id": "b441e5ee-e551-4180-9d58-491565eee7d4",
   "metadata": {},
   "outputs": [
    {
     "name": "stdout",
     "output_type": "stream",
     "text": [
      "File Content:\n",
      " This is a sample string written to the file.\n",
      "This line is appended to the file.\n"
     ]
    }
   ],
   "source": [
    "# 22. How can you check if a file is empty before attempting to read its contents?\n",
    "import os\n",
    "\n",
    "file_path = \"output.txt\"\n",
    "\n",
    "if os.path.exists(file_path) and os.stat(file_path).st_size > 0:\n",
    "    with open(file_path, \"r\") as file:\n",
    "        print(\"File Content:\\n\", file.read())\n",
    "else:\n",
    "    print(\"The file is empty or does not exist.\")\n"
   ]
  },
  {
   "cell_type": "code",
   "execution_count": 24,
   "id": "acb3ce55-2926-4f81-ab2e-c4785ac9aafa",
   "metadata": {},
   "outputs": [
    {
     "name": "stdout",
     "output_type": "stream",
     "text": [
      "Error logged to 'file_error.log'.\n"
     ]
    }
   ],
   "source": [
    "# 23. Write a Python program that writes to a log file when an error occurs during file handling.\n",
    "import logging\n",
    "\n",
    "logging.basicConfig(filename=\"file_error.log\", level=logging.ERROR)\n",
    "\n",
    "try:\n",
    "    with open(\"nonexistent_file.txt\", \"r\") as file:\n",
    "        print(file.read())\n",
    "except FileNotFoundError:\n",
    "    logging.error(\"File not found error occurred.\", exc_info=True)\n",
    "    print(\"Error logged to 'file_error.log'.\")\n"
   ]
  },
  {
   "cell_type": "code",
   "execution_count": null,
   "id": "ccdc54cf-32fc-4ac1-9186-e85b2efec435",
   "metadata": {},
   "outputs": [],
   "source": []
  }
 ],
 "metadata": {
  "kernelspec": {
   "display_name": "Python 3 (ipykernel)",
   "language": "python",
   "name": "python3"
  },
  "language_info": {
   "codemirror_mode": {
    "name": "ipython",
    "version": 3
   },
   "file_extension": ".py",
   "mimetype": "text/x-python",
   "name": "python",
   "nbconvert_exporter": "python",
   "pygments_lexer": "ipython3",
   "version": "3.12.7"
  }
 },
 "nbformat": 4,
 "nbformat_minor": 5
}
